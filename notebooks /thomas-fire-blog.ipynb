{
 "cells": [
  {
   "cell_type": "markdown",
   "id": "899c991e-f911-483a-9302-abe2cf0ab479",
   "metadata": {},
   "source": [
    "# Thomas Fire Analysis \n",
    "\n",
    "\n",
    "## About \n",
    "\n",
    "In this task you will use Air Quality Index (AQI) data from the US Environmental Protection Agency to visualize the impact on the AQI of the 2017 Thomas Fire. \n",
    "This notebook focuses on analyzing satellite imagery to assess the impact of the Thomas Fire, which occurred in 2017. Using Landsat 8 imagery and fire perimeter data, this notebook demonstrates how false color imaging techniques can be applied to identify fire scars and vegetation health. \n",
    "\n",
    "## Highlights of Analysis \n",
    "\n",
    "- **Data Wrangling**: A portion of the notebook involves cleaning and preparing the Landsat dataset for analysis, including dropping the band dimension for better usablity.\n",
    "\n",
    "- **False Color Imaging**: The notebook explores how false color images can highlight burn areas using shortwave infrared (SWIR) and near-infrared (NIR) bands to distinguish between burned land and healthy vegetation.\n",
    "\n",
    "## Data \n",
    "\n",
    "- **Air Quality Index (AQI) Data** The AQI data comes from the US Environmental Protection Agency to visualize the impact on the AQI of the Thomas Fire.\n",
    "\n",
    "- **Landsat 8 Data**: The Landsat data used in this analysis is the landsat8-2018-01-26-sb-simplified.nc dataset, which includes key spectral bands (e.g., shortwave infrared, near-infrared, and red) for the Santa Barbara region. This data is used to create both true color and false color images, with specific bands selected to highlight different land features.\n",
    "\n",
    "- **Fire Perimeter Data**: The fire perimeter data comes from CAL FIRE and is used to overlay the Thomas Fire’s boundary on the imagery. The selected dataset includes the fire perimeter for the 2017 Thomas Fire.\n",
    "\n",
    "**References**:\n",
    "\n",
    "Earth Resources Observation and Science (EROS) Center. (2020). Landsat 8-9 Operational Land Imager / Thermal Infrared Sensor Level-2, Collection 2 [dataset]. U.S. Geological Survey. https://doi.org/10.5066/P9OGBGM6\n",
    "\n",
    "California Department of Forestry and Fire Protection (CAL FIRE). (2023). California fire perimeters (all). Data.gov. https://catalog.data.gov/dataset/california-fire-perimeters-all-b3436\n",
    "\n",
    "\n",
    "\n",
    "\n",
    "\n"
   ]
  }
 ],
 "metadata": {
  "kernelspec": {
   "display_name": "Anaconda 3 (EDS220)",
   "language": "python",
   "name": "eds220-env"
  },
  "language_info": {
   "codemirror_mode": {
    "name": "ipython",
    "version": 3
   },
   "file_extension": ".py",
   "mimetype": "text/x-python",
   "name": "python",
   "nbconvert_exporter": "python",
   "pygments_lexer": "ipython3",
   "version": "3.11.4"
  }
 },
 "nbformat": 4,
 "nbformat_minor": 5
}
