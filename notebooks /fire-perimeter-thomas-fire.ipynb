{
 "cells": [
  {
   "cell_type": "markdown",
   "id": "167d9d3f-38a0-4208-980c-5c62a7cd9b13",
   "metadata": {},
   "source": [
    "# Task 2- Fire Perimeter \n",
    "\n",
    "Date: 2024-11-23\n",
    "\n",
    "Author: Jordan Sibley \n",
    "\n",
    "[Github Repository](https://github.com/jordancsibley/eds220-hwk4)"
   ]
  },
  {
   "cell_type": "markdown",
   "id": "01336995-b53d-4ec2-b6ec-814507b17b4b",
   "metadata": {},
   "source": [
    "### About \n",
    "\n",
    "**Purpose:** This notebook explores a fire perimeter dataset to extract the Thomas Fire (2017) boundary. The perimeter is then saved as a shapefile for use in subsequent spatial analysis.\n",
    "\n",
    "**Highlights:**\n",
    "- **Data Exploration and Wrangling**: The main portion of this notebook involves data exploration and wrangling, including selecting the correct fire perimeter data and wrangling it into a usable format.\n",
    "- **File Creation** The selected fire perimeter was extracted from the larger dataset, saved as a shapefile, and stored in the data folder to enhance reproducibility.\n",
    "\n",
    "**Data:** \n",
    "- **Fire Perimeter Data:** The California historic fire perimeter data comes from DATA.gov that was orginally published by CAL FIRE. This database represents the most complete digital record of fire perimeters in California, and it contains the spatial geometries of the Thomas Fire (2017). \n",
    "\n",
    "**References**:\n",
    "\n",
    "California Department of Forestry and Fire Protection (CAL FIRE). (2023). California fire perimeters (all). Data.gov. Retrieved from https://catalog.data.gov/dataset/california-fire-perimeters-all-b3436"
   ]
  },
  {
   "cell_type": "markdown",
   "id": "efdd1990-b2a6-4a9f-84eb-dd3c6c1991c3",
   "metadata": {},
   "source": [
    "### Setup"
   ]
  },
  {
   "cell_type": "code",
   "execution_count": 1,
   "id": "0939b5b8-25cc-4993-a753-88a2df21f9f6",
   "metadata": {
    "tags": []
   },
   "outputs": [],
   "source": [
    "# Import libraries \n",
    "import pandas as pd \n",
    "import geopandas as gpd \n",
    "import os "
   ]
  },
  {
   "cell_type": "code",
   "execution_count": 2,
   "id": "d13bbfab-2de2-4d8d-bf20-1f6ee67a4493",
   "metadata": {},
   "outputs": [],
   "source": [
    "# Set environment variable\n",
    "os.environ['PROJ_LIB'] = '/opt/anaconda3/share/proj'\n",
    "\n",
    "# Show all columns \n",
    "pd.set_option(\"display.max.columns\", None)\n",
    "\n",
    "# Read in fire perimeter data \n",
    "fire_all = gpd.read_file(\"data/California_Fire_Perimeters_(all).shp\")"
   ]
  },
  {
   "cell_type": "markdown",
   "id": "019d09ac-d408-4056-9661-d61c3064fffd",
   "metadata": {},
   "source": [
    "### Data Exploration"
   ]
  },
  {
   "cell_type": "code",
   "execution_count": 3,
   "id": "da5488d3-ee38-4413-a8be-d072e09f517e",
   "metadata": {
    "tags": []
   },
   "outputs": [
    {
     "data": {
      "text/html": [
       "<div>\n",
       "<style scoped>\n",
       "    .dataframe tbody tr th:only-of-type {\n",
       "        vertical-align: middle;\n",
       "    }\n",
       "\n",
       "    .dataframe tbody tr th {\n",
       "        vertical-align: top;\n",
       "    }\n",
       "\n",
       "    .dataframe thead th {\n",
       "        text-align: right;\n",
       "    }\n",
       "</style>\n",
       "<table border=\"1\" class=\"dataframe\">\n",
       "  <thead>\n",
       "    <tr style=\"text-align: right;\">\n",
       "      <th></th>\n",
       "      <th>YEAR_</th>\n",
       "      <th>STATE</th>\n",
       "      <th>AGENCY</th>\n",
       "      <th>UNIT_ID</th>\n",
       "      <th>FIRE_NAME</th>\n",
       "      <th>INC_NUM</th>\n",
       "      <th>ALARM_DATE</th>\n",
       "      <th>CONT_DATE</th>\n",
       "      <th>CAUSE</th>\n",
       "      <th>C_METHOD</th>\n",
       "      <th>OBJECTIVE</th>\n",
       "      <th>GIS_ACRES</th>\n",
       "      <th>COMMENTS</th>\n",
       "      <th>COMPLEX_NA</th>\n",
       "      <th>IRWINID</th>\n",
       "      <th>FIRE_NUM</th>\n",
       "      <th>COMPLEX_ID</th>\n",
       "      <th>DECADES</th>\n",
       "      <th>geometry</th>\n",
       "    </tr>\n",
       "  </thead>\n",
       "  <tbody>\n",
       "    <tr>\n",
       "      <th>0</th>\n",
       "      <td>2023</td>\n",
       "      <td>CA</td>\n",
       "      <td>CDF</td>\n",
       "      <td>SKU</td>\n",
       "      <td>WHITWORTH</td>\n",
       "      <td>00004808</td>\n",
       "      <td>2023-06-17</td>\n",
       "      <td>2023-06-17</td>\n",
       "      <td>5</td>\n",
       "      <td>1</td>\n",
       "      <td>1</td>\n",
       "      <td>5.72913</td>\n",
       "      <td>None</td>\n",
       "      <td>None</td>\n",
       "      <td>{7985848C-0AC2-4BA4-8F0E-29F778652E61}</td>\n",
       "      <td>None</td>\n",
       "      <td>None</td>\n",
       "      <td>2020</td>\n",
       "      <td>POLYGON ((-13682443.000 5091132.739, -13682445...</td>\n",
       "    </tr>\n",
       "    <tr>\n",
       "      <th>1</th>\n",
       "      <td>2023</td>\n",
       "      <td>CA</td>\n",
       "      <td>LRA</td>\n",
       "      <td>BTU</td>\n",
       "      <td>KAISER</td>\n",
       "      <td>00010225</td>\n",
       "      <td>2023-06-02</td>\n",
       "      <td>2023-06-02</td>\n",
       "      <td>5</td>\n",
       "      <td>1</td>\n",
       "      <td>1</td>\n",
       "      <td>13.60240</td>\n",
       "      <td>None</td>\n",
       "      <td>None</td>\n",
       "      <td>{43EBCC88-B3AC-48EB-8EF5-417FE0939CCF}</td>\n",
       "      <td>None</td>\n",
       "      <td>None</td>\n",
       "      <td>2020</td>\n",
       "      <td>POLYGON ((-13576727.142 4841226.161, -13576726...</td>\n",
       "    </tr>\n",
       "    <tr>\n",
       "      <th>2</th>\n",
       "      <td>2023</td>\n",
       "      <td>CA</td>\n",
       "      <td>CDF</td>\n",
       "      <td>AEU</td>\n",
       "      <td>JACKSON</td>\n",
       "      <td>00017640</td>\n",
       "      <td>2023-07-01</td>\n",
       "      <td>2023-07-02</td>\n",
       "      <td>2</td>\n",
       "      <td>1</td>\n",
       "      <td>1</td>\n",
       "      <td>27.81450</td>\n",
       "      <td>None</td>\n",
       "      <td>None</td>\n",
       "      <td>{B64E1355-BF1D-441A-95D0-BC1FBB93483B}</td>\n",
       "      <td>None</td>\n",
       "      <td>None</td>\n",
       "      <td>2020</td>\n",
       "      <td>POLYGON ((-13459243.000 4621236.000, -13458968...</td>\n",
       "    </tr>\n",
       "    <tr>\n",
       "      <th>3</th>\n",
       "      <td>2023</td>\n",
       "      <td>CA</td>\n",
       "      <td>CDF</td>\n",
       "      <td>AEU</td>\n",
       "      <td>CARBON</td>\n",
       "      <td>00018821</td>\n",
       "      <td>2023-07-11</td>\n",
       "      <td>2023-07-11</td>\n",
       "      <td>9</td>\n",
       "      <td>1</td>\n",
       "      <td>1</td>\n",
       "      <td>58.76020</td>\n",
       "      <td>None</td>\n",
       "      <td>None</td>\n",
       "      <td>{CB41DB0A-E4B1-489D-A4EA-738F2CD6DB3B}</td>\n",
       "      <td>None</td>\n",
       "      <td>None</td>\n",
       "      <td>2020</td>\n",
       "      <td>POLYGON ((-13468077.000 4642260.000, -13467975...</td>\n",
       "    </tr>\n",
       "    <tr>\n",
       "      <th>4</th>\n",
       "      <td>2023</td>\n",
       "      <td>CA</td>\n",
       "      <td>CDF</td>\n",
       "      <td>AEU</td>\n",
       "      <td>LIBERTY</td>\n",
       "      <td>00018876</td>\n",
       "      <td>2023-07-11</td>\n",
       "      <td>2023-07-12</td>\n",
       "      <td>14</td>\n",
       "      <td>1</td>\n",
       "      <td>1</td>\n",
       "      <td>70.97900</td>\n",
       "      <td>None</td>\n",
       "      <td>None</td>\n",
       "      <td>{F83F70A4-07A7-40B8-BD51-10CCC1C30D63}</td>\n",
       "      <td>None</td>\n",
       "      <td>None</td>\n",
       "      <td>2020</td>\n",
       "      <td>POLYGON ((-13468418.000 4614853.000, -13468428...</td>\n",
       "    </tr>\n",
       "  </tbody>\n",
       "</table>\n",
       "</div>"
      ],
      "text/plain": [
       "   YEAR_ STATE AGENCY UNIT_ID  FIRE_NAME   INC_NUM  ALARM_DATE   CONT_DATE  \\\n",
       "0   2023    CA    CDF     SKU  WHITWORTH  00004808  2023-06-17  2023-06-17   \n",
       "1   2023    CA    LRA     BTU     KAISER  00010225  2023-06-02  2023-06-02   \n",
       "2   2023    CA    CDF     AEU    JACKSON  00017640  2023-07-01  2023-07-02   \n",
       "3   2023    CA    CDF     AEU     CARBON  00018821  2023-07-11  2023-07-11   \n",
       "4   2023    CA    CDF     AEU    LIBERTY  00018876  2023-07-11  2023-07-12   \n",
       "\n",
       "   CAUSE  C_METHOD  OBJECTIVE  GIS_ACRES COMMENTS COMPLEX_NA  \\\n",
       "0      5         1          1    5.72913     None       None   \n",
       "1      5         1          1   13.60240     None       None   \n",
       "2      2         1          1   27.81450     None       None   \n",
       "3      9         1          1   58.76020     None       None   \n",
       "4     14         1          1   70.97900     None       None   \n",
       "\n",
       "                                  IRWINID FIRE_NUM COMPLEX_ID  DECADES  \\\n",
       "0  {7985848C-0AC2-4BA4-8F0E-29F778652E61}     None       None     2020   \n",
       "1  {43EBCC88-B3AC-48EB-8EF5-417FE0939CCF}     None       None     2020   \n",
       "2  {B64E1355-BF1D-441A-95D0-BC1FBB93483B}     None       None     2020   \n",
       "3  {CB41DB0A-E4B1-489D-A4EA-738F2CD6DB3B}     None       None     2020   \n",
       "4  {F83F70A4-07A7-40B8-BD51-10CCC1C30D63}     None       None     2020   \n",
       "\n",
       "                                            geometry  \n",
       "0  POLYGON ((-13682443.000 5091132.739, -13682445...  \n",
       "1  POLYGON ((-13576727.142 4841226.161, -13576726...  \n",
       "2  POLYGON ((-13459243.000 4621236.000, -13458968...  \n",
       "3  POLYGON ((-13468077.000 4642260.000, -13467975...  \n",
       "4  POLYGON ((-13468418.000 4614853.000, -13468428...  "
      ]
     },
     "execution_count": 3,
     "metadata": {},
     "output_type": "execute_result"
    }
   ],
   "source": [
    "# Explore fire perimeter dataset \n",
    "fire_all.head()"
   ]
  },
  {
   "cell_type": "code",
   "execution_count": 4,
   "id": "77a3cef3-5da3-4783-93e5-2418af2ca348",
   "metadata": {
    "tags": []
   },
   "outputs": [
    {
     "name": "stdout",
     "output_type": "stream",
     "text": [
      "ellipsoid:WGS 84\n",
      "\n",
      "datum: World Geodetic System 1984\n",
      "\n",
      "Is the CRS projected?: True\n"
     ]
    }
   ],
   "source": [
    "# View CRS of fire data \n",
    "print(f\"ellipsoid:{fire_all.crs.ellipsoid}\")\n",
    "# Explore CRS \n",
    "print(f\"\\ndatum: {fire_all.crs.datum}\\n\")\n",
    "# View if data is projected \n",
    "print(f\"Is the CRS projected?: {fire_all.crs.is_projected}\")"
   ]
  },
  {
   "cell_type": "markdown",
   "id": "246c7f15-7ced-42eb-9c64-8e35a1f441c3",
   "metadata": {},
   "source": [
    "Based on the exploration of this dataset, it seems that it contains the dates the fires took place, the name of the fire, the area it covered, and a geometry column that will give the actual shape of the fire perimeter. The coordinate reference system is WGS 1984 and it is projected. "
   ]
  },
  {
   "cell_type": "markdown",
   "id": "1ae6c649-a35d-4192-b994-b8ffda0256f4",
   "metadata": {},
   "source": [
    "### Subsetting Data"
   ]
  },
  {
   "cell_type": "code",
   "execution_count": 5,
   "id": "32ab1055-7375-43b0-9ea5-b0a5ce098a8b",
   "metadata": {
    "tags": []
   },
   "outputs": [
    {
     "data": {
      "text/html": [
       "<div>\n",
       "<style scoped>\n",
       "    .dataframe tbody tr th:only-of-type {\n",
       "        vertical-align: middle;\n",
       "    }\n",
       "\n",
       "    .dataframe tbody tr th {\n",
       "        vertical-align: top;\n",
       "    }\n",
       "\n",
       "    .dataframe thead th {\n",
       "        text-align: right;\n",
       "    }\n",
       "</style>\n",
       "<table border=\"1\" class=\"dataframe\">\n",
       "  <thead>\n",
       "    <tr style=\"text-align: right;\">\n",
       "      <th></th>\n",
       "      <th>YEAR_</th>\n",
       "      <th>STATE</th>\n",
       "      <th>AGENCY</th>\n",
       "      <th>UNIT_ID</th>\n",
       "      <th>FIRE_NAME</th>\n",
       "      <th>INC_NUM</th>\n",
       "      <th>ALARM_DATE</th>\n",
       "      <th>CONT_DATE</th>\n",
       "      <th>CAUSE</th>\n",
       "      <th>C_METHOD</th>\n",
       "      <th>OBJECTIVE</th>\n",
       "      <th>GIS_ACRES</th>\n",
       "      <th>COMMENTS</th>\n",
       "      <th>COMPLEX_NA</th>\n",
       "      <th>IRWINID</th>\n",
       "      <th>FIRE_NUM</th>\n",
       "      <th>COMPLEX_ID</th>\n",
       "      <th>DECADES</th>\n",
       "      <th>geometry</th>\n",
       "    </tr>\n",
       "  </thead>\n",
       "  <tbody>\n",
       "    <tr>\n",
       "      <th>2654</th>\n",
       "      <td>2017</td>\n",
       "      <td>CA</td>\n",
       "      <td>USF</td>\n",
       "      <td>VNC</td>\n",
       "      <td>THOMAS</td>\n",
       "      <td>00003583</td>\n",
       "      <td>2017-12-04</td>\n",
       "      <td>2018-01-12</td>\n",
       "      <td>9</td>\n",
       "      <td>7</td>\n",
       "      <td>1</td>\n",
       "      <td>281791.0</td>\n",
       "      <td>CONT_DATE based on Inciweb</td>\n",
       "      <td>None</td>\n",
       "      <td>None</td>\n",
       "      <td>None</td>\n",
       "      <td>None</td>\n",
       "      <td>2010</td>\n",
       "      <td>MULTIPOLYGON (((-13316089.016 4088553.040, -13...</td>\n",
       "    </tr>\n",
       "  </tbody>\n",
       "</table>\n",
       "</div>"
      ],
      "text/plain": [
       "      YEAR_ STATE AGENCY UNIT_ID FIRE_NAME   INC_NUM  ALARM_DATE   CONT_DATE  \\\n",
       "2654   2017    CA    USF     VNC    THOMAS  00003583  2017-12-04  2018-01-12   \n",
       "\n",
       "      CAUSE  C_METHOD  OBJECTIVE  GIS_ACRES                    COMMENTS  \\\n",
       "2654      9         7          1   281791.0  CONT_DATE based on Inciweb   \n",
       "\n",
       "     COMPLEX_NA IRWINID FIRE_NUM COMPLEX_ID  DECADES  \\\n",
       "2654       None    None     None       None     2010   \n",
       "\n",
       "                                               geometry  \n",
       "2654  MULTIPOLYGON (((-13316089.016 4088553.040, -13...  "
      ]
     },
     "execution_count": 5,
     "metadata": {},
     "output_type": "execute_result"
    }
   ],
   "source": [
    "# Extract Thomas fire from the data set \n",
    "thomas = fire_all[(fire_all[\"YEAR_\"] == 2017)&(fire_all[\"FIRE_NAME\"] == \"THOMAS\")]\n",
    "# View Thomas Fire row \n",
    "thomas"
   ]
  },
  {
   "cell_type": "markdown",
   "id": "50cafe75-1e33-4f9c-aa82-05ec8ce2e82b",
   "metadata": {},
   "source": [
    "### File Creation"
   ]
  },
  {
   "cell_type": "code",
   "execution_count": 6,
   "id": "a26d58cc-8518-4f6b-bcc7-eddb4e5f6152",
   "metadata": {
    "tags": []
   },
   "outputs": [],
   "source": [
    "# Create file path to data folder \n",
    "filepath = \"/Users/jcsibley/MEDS/eds-220/eds220-hwk4/thomas-fire-boundary-file\"\n",
    "\n",
    "# Save Thomas fire boundary to geospatial shape file \n",
    "thomas.to_file(f\"{filepath}/thomas.shp\", driver='ESRI Shapefile')"
   ]
  },
  {
   "cell_type": "markdown",
   "id": "1ceadc2e-c7dd-4cec-bc2a-393345777868",
   "metadata": {},
   "source": [
    "I decided to save the Thomas fire boundary as an ESRI Shapefile because it remains consistant with the format of the orginial fire perimeter data. "
   ]
  }
 ],
 "metadata": {
  "kernelspec": {
   "display_name": "Anaconda 3 (EDS220)",
   "language": "python",
   "name": "eds220-env"
  },
  "language_info": {
   "codemirror_mode": {
    "name": "ipython",
    "version": 3
   },
   "file_extension": ".py",
   "mimetype": "text/x-python",
   "name": "python",
   "nbconvert_exporter": "python",
   "pygments_lexer": "ipython3",
   "version": "3.11.4"
  }
 },
 "nbformat": 4,
 "nbformat_minor": 5
}
