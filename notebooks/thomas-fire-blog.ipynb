{
 "cells": [
  {
   "cell_type": "markdown",
   "id": "899c991e-f911-483a-9302-abe2cf0ab479",
   "metadata": {},
   "source": [
    "# Thomas Fire Analysis \n",
    "\n",
    "\n",
    "## About \n",
    "\n",
    "This project provides an in-depth analysis of the Thomas Fire, which burned over 280,000 acres in Ventura and Santa Barbara counties in December 2017. The first part of the analysis examines air quality impacts using Air Quality Index (AQI) data from the US Environmental Protection Agency, visualizing how air quality changed over time during and after the fire. The second part focuses on the fire's physical impact, leveraging Landsat 8 satellite imagery and historic fire perimeter data. By applying false-color imaging techniques, this analysis highlights fire scars and assesses vegetation health in the affected areas.\n",
    "\n",
    "## Highlights of Analysis \n",
    "\n",
    "- **Data Wrangling**: A portion of the project involves cleaning and preparing the data for analysis. This includes updating data types of the AQI data and dropping the band dimension for the Landsat dataset for better usablity.\n",
    "\n",
    "- **Working with different data types**: This analysis utilizes many different data types which required unique packages for reading in. The AQI data was read in using `pandas` from an online repository, while the spatial data required `rioxarray` and `geopandas`. \n",
    "\n",
    "- **False Color Imaging**: The notebook explores how false color images can highlight burn areas using shortwave infrared (SWIR) and near-infrared (NIR) bands to distinguish between burned land and healthy vegetation.\n",
    "\n",
    "## Data \n",
    "\n",
    "- **Air Quality Index (AQI) Data** The AQI data comes from the US Environmental Protection Agency. It includes daily air quality index score for Santa Barbara county.  \n",
    "\n",
    "- **Landsat 8 Data**: The Landsat data used in this analysis is the landsat8-2018-01-26-sb-simplified.nc dataset, which includes key spectral bands (e.g., shortwave infrared, near-infrared, and red) for the Santa Barbara region. This data is used to create both true color and false color images, with specific bands selected to highlight different land features.\n",
    "\n",
    "- **Fire Perimeter Data**: The fire perimeter data comes from CAL FIRE and is used to overlay the Thomas Fire’s boundary on the imagery. The selected dataset includes the fire perimeter for the 2017 Thomas Fire which was extracted from the larger database and then saved as a shapefile. The process of selecting this fire perimeter can be seen in this [Jupyter notebook](https://github.com/jordancsibley/thomas-fire-analysis/blob/main/notebooks%20/fire-perimeter-thomas-fire.ipynb). \n",
    "\n",
    "**References and Data Sources**:\n",
    "\n",
    "Environmental Protection Agency (EPA). Air Quality Index (AQI) Data. https://aqs.epa.gov/aqsweb/airdata/download_files.html (Accessed October, 2024)\n",
    "\n",
    "Earth Resources Observation and Science (EROS) Center. (2020). Landsat 8-9 Operational Land Imager / Thermal Infrared Sensor Level-2, Collection 2 [dataset]. U.S. Geological Survey. https://doi.org/10.5066/P9OGBGM6 (Access Novemeber, 2024)\n",
    "\n",
    "California Department of Forestry and Fire Protection (CAL FIRE). (2023). California fire perimeters (all). Data.gov. https://catalog.data.gov/dataset/california-fire-perimeters-all-b3436 (Accessed November, 2024)\n"
   ]
  },
  {
   "cell_type": "markdown",
   "id": "30fb05c5-775a-4e8c-b1b8-bc03c3c2c98c",
   "metadata": {},
   "source": [
    "### Set Up  "
   ]
  },
  {
   "cell_type": "code",
   "execution_count": 1,
   "id": "39822bee-3a5f-442c-9412-7351f743d154",
   "metadata": {
    "tags": []
   },
   "outputs": [],
   "source": [
    "# Import libraries \n",
    "import pandas as pd\n",
    "import numpy as np\n",
    "import os \n",
    "\n",
    "import matplotlib.pyplot as plt\n",
    "import matplotlib.dates as mdates\n",
    "\n",
    "import geopandas as gpd \n",
    "import rioxarray as rioxr\n",
    "import matplotlib.patches as mpatches # For custom legend creation\n",
    "from matplotlib_scalebar.scalebar import ScaleBar \n",
    "\n",
    "# Show all columns \n",
    "pd.set_option(\"display.max.columns\", None)"
   ]
  },
  {
   "cell_type": "markdown",
   "id": "7558bd18-3813-4056-b7a4-58971a60a931",
   "metadata": {},
   "source": [
    "### Import data "
   ]
  },
  {
   "cell_type": "code",
   "execution_count": 5,
   "id": "79f42ce7-6bff-409d-b648-89930e14bda1",
   "metadata": {
    "tags": []
   },
   "outputs": [],
   "source": [
    "# ---- AQI data for 2017-2018 \n",
    "\n",
    "# Read in data\n",
    "aqi_17 = pd.read_csv('https://aqs.epa.gov/aqsweb/airdata/daily_aqi_by_county_2017.zip', compression='zip')\n",
    "aqi_18 = pd.read_csv('https://aqs.epa.gov/aqsweb/airdata/daily_aqi_by_county_2018.zip', compression='zip')\n",
    "\n",
    "# Concatnate the 'aqi_17' and 'aqi_18' dataframes into a single dataframe\n",
    "aqi = pd.concat([aqi_17, aqi_18])\n",
    "\n",
    "# ---- Landsat data \n",
    "\n",
    "# Path to data in folder \n",
    "landsat_fp = os.path.join(os.getcwd(), '..', 'data', 'landsat8-2018-01-26-sb-simplified.nc')\n",
    "\n",
    "# Open with rioxarray\n",
    "landsat = rioxr.open_rasterio(landsat_fp)\n",
    "\n",
    "# ---- Thomas fire perimeter \n",
    "\n",
    "# Path to data in file  \n",
    "thomas_fp = os.path.join(os.getcwd(), '..', 'data', 'thomas.shp')\n",
    "\n",
    "# Read in Thomas fire perimeter data\n",
    "thomas = gpd.read_file(thomas_fp)"
   ]
  }
 ],
 "metadata": {
  "kernelspec": {
   "display_name": "Anaconda 3 (EDS220)",
   "language": "python",
   "name": "eds220-env"
  },
  "language_info": {
   "codemirror_mode": {
    "name": "ipython",
    "version": 3
   },
   "file_extension": ".py",
   "mimetype": "text/x-python",
   "name": "python",
   "nbconvert_exporter": "python",
   "pygments_lexer": "ipython3",
   "version": "3.11.4"
  }
 },
 "nbformat": 4,
 "nbformat_minor": 5
}
